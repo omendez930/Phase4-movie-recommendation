{
 "cells": [
  {
   "cell_type": "markdown",
   "id": "8cab06f1-1243-4fda-a4ec-29783adb625b",
   "metadata": {},
   "source": [
    "# Movie rating Recommendation system"
   ]
  },
  {
   "cell_type": "markdown",
   "id": "8b5fd935-5da4-4e27-81da-c320e485dd37",
   "metadata": {},
   "source": [
    "## Business and Data Understanding\n",
    "\n",
    "The goal is to provide movie recommendations to users based on their past ratings, improvin user engagement and satisfactions. Additionally, I will aim to address the cold start problem to recommend movies for new users or movies with limited data.\n",
    "\n",
    "## Data\n",
    "\n",
    "The MovieLens dataset is used, which contains explicit user ratings for movies along with metdata such as titles, genres, and timestamps. This dataset allows us to analyze user preferences and create a recommendation system.\n",
    "\n"
   ]
  },
  {
   "cell_type": "markdown",
   "id": "3adf6c0a-ad4e-4e5f-83fd-dcc27a7af164",
   "metadata": {},
   "source": [
    "## Data Preparartion"
   ]
  },
  {
   "cell_type": "markdown",
   "id": "7ba16d4c-b506-4759-b344-99782c9dd3ec",
   "metadata": {},
   "source": [
    " I'll start by inspecting the contents of these files to understand their structure and proceed with building the movie recommendation system.\n",
    "\n",
    " I'll import the necessary libraries for this project, which includes the **Surprise** library."
   ]
  },
  {
   "cell_type": "markdown",
   "id": "58973161-6987-425a-a7e4-40b4e56423a9",
   "metadata": {},
   "source": [
    "In this project, we have 3 seperate datasets that can be included\n",
    "* Links dataset\n",
    "* Movies dataset\n",
    "* Ratings dataset"
   ]
  },
  {
   "cell_type": "code",
   "execution_count": 1,
   "id": "9d8568de-c61f-4c3c-b806-3ccf7e9242ed",
   "metadata": {},
   "outputs": [],
   "source": [
    "#import neccesary libraries \n",
    "\n",
    "import numpy as np\n",
    "import pandas as pd\n",
    "import matplotlib.pyplot as plt\n",
    "import seaborn as sns\n",
    "%matplotlib inline\n",
    "\n",
    "#import neccessary libraries from the surprise library\n",
    "from surprise import SVD, Dataset, Reader\n",
    "from surprise.model_selection import train_test_split\n",
    "from surprise import accuracy\n",
    "from surprise.model_selection import cross_validate, GridSearchCV\n",
    "from surprise.prediction_algorithms import KNNBaseline, KNNBasic, KNNWithMeans"
   ]
  },
  {
   "cell_type": "code",
   "execution_count": 2,
   "id": "596731ce-e93b-4331-84b4-a9f55935b03d",
   "metadata": {},
   "outputs": [],
   "source": [
    "# save each CSV file into variables.\n",
    "\n",
    "links_df = pd.read_csv('./ml-latest-small/links.csv')\n",
    "movies_df = pd.read_csv('./ml-latest-small/movies.csv')\n",
    "ratings_df = pd.read_csv('./ml-latest-small/ratings.csv')\n"
   ]
  },
  {
   "cell_type": "code",
   "execution_count": 3,
   "id": "ffb2018b-98f7-4f08-82ec-2992467ea008",
   "metadata": {
    "scrolled": true
   },
   "outputs": [
    {
     "data": {
      "text/plain": [
       "(   movieId  imdbId   tmdbId\n",
       " 0        1  114709    862.0\n",
       " 1        2  113497   8844.0\n",
       " 2        3  113228  15602.0\n",
       " 3        4  114885  31357.0\n",
       " 4        5  113041  11862.0,\n",
       "    movieId                               title  \\\n",
       " 0        1                    Toy Story (1995)   \n",
       " 1        2                      Jumanji (1995)   \n",
       " 2        3             Grumpier Old Men (1995)   \n",
       " 3        4            Waiting to Exhale (1995)   \n",
       " 4        5  Father of the Bride Part II (1995)   \n",
       " \n",
       "                                         genres  \n",
       " 0  Adventure|Animation|Children|Comedy|Fantasy  \n",
       " 1                   Adventure|Children|Fantasy  \n",
       " 2                               Comedy|Romance  \n",
       " 3                         Comedy|Drama|Romance  \n",
       " 4                                       Comedy  ,\n",
       "    userId  movieId  rating  timestamp\n",
       " 0       1        1     4.0  964982703\n",
       " 1       1        3     4.0  964981247\n",
       " 2       1        6     4.0  964982224\n",
       " 3       1       47     5.0  964983815\n",
       " 4       1       50     5.0  964982931)"
      ]
     },
     "execution_count": 3,
     "metadata": {},
     "output_type": "execute_result"
    }
   ],
   "source": [
    "# print the head of each dataset\n",
    "\n",
    "links_df_head = links_df.head()\n",
    "movies_df_head = movies_df.head()\n",
    "ratings_df_head = ratings_df.head()\n",
    "\n",
    "links_df_head, movies_df_head, ratings_df_head"
   ]
  },
  {
   "cell_type": "markdown",
   "id": "24852fb9-1c27-4675-9d62-603ef06fabe2",
   "metadata": {},
   "source": [
    "Here is the structure of the three datasets:\n",
    "\n",
    "    1. Links Dataset (links.csv):\n",
    "        * movieId: A unique identifier for each movie (linked to the movies.csv dataset).\n",
    "        * imdbId: The IMDb ID for the movie.\n",
    "        * tmdbId: The TMDb ID for the movie.\n",
    "     \n",
    "    2. Movies Dataset (movies.csv):\n",
    "    \n",
    "        * movieId: A unique identifier for each movie (linked to the ratings.csv and links.csv datasets).\n",
    "        * title: The title of the movie, including the release year.\n",
    "        * genres: The genres associated with the movie (separated by \"|\").\n",
    "\n",
    "    3.Ratings Dataset (ratings.csv):\n",
    "\n",
    "        * userId: A unique identifier for each user.\n",
    "        * movieId: A unique identifier for the movie (linked to the movies.csv dataset).\n",
    "        * rating: The rating given by the user (on a scale, e.g., 1 to 5).\n",
    "        * timestamp: The timestamp of when the rating was given."
   ]
  },
  {
   "cell_type": "markdown",
   "id": "387ffd43-f7ae-442a-b780-3095b3c5c19e",
   "metadata": {},
   "source": [
    "## EDA"
   ]
  },
  {
   "cell_type": "markdown",
   "id": "d9976a6a-26af-4631-b5a5-e7983b3e48b9",
   "metadata": {},
   "source": [
    "I'll focus on the following for EDA:\n",
    "\n",
    "    1. Missing Values: Check for null or missing values in each dataset.\n",
    "    \n",
    "    2. Distribution of Ratings: Analyze the distribution of ratings to understand user behavior.\n",
    "    \n",
    "    3. Movie Statistics: Identify the most-rated and least-rated movies.\n",
    "    \n",
    "    4. User Statistics: Understand user activity (e.g., number of movies rated per user).\n",
    "    \n",
    "    5. Genre Analysis: Explore the genres of movies to see the diversity in the dataset."
   ]
  },
  {
   "cell_type": "code",
   "execution_count": 4,
   "id": "10d6fd40-b62d-4032-bf19-750ced86e85b",
   "metadata": {
    "scrolled": true
   },
   "outputs": [
    {
     "data": {
      "text/plain": [
       "(movieId    0\n",
       " imdbId     0\n",
       " tmdbId     8\n",
       " dtype: int64,\n",
       " movieId    0\n",
       " title      0\n",
       " genres     0\n",
       " dtype: int64,\n",
       " userId       0\n",
       " movieId      0\n",
       " rating       0\n",
       " timestamp    0\n",
       " dtype: int64)"
      ]
     },
     "execution_count": 4,
     "metadata": {},
     "output_type": "execute_result"
    }
   ],
   "source": [
    "# Check for missing values in each dataset\n",
    "\n",
    "missing_links = links_df.isnull().sum()\n",
    "\n",
    "missing_movies = movies_df.isnull().sum()\n",
    "\n",
    "missing_ratings = ratings_df.isnull().sum()\n",
    "\n",
    "\n",
    "\n",
    "missing_links, missing_movies, missing_ratings"
   ]
  },
  {
   "cell_type": "markdown",
   "id": "46cc6a01-264a-42c1-af0d-af27c9ed3753",
   "metadata": {},
   "source": [
    "We see  the missing values in the following\n",
    "\n",
    "    Links Dataset:\n",
    "        tmdbId: 8 missing values.\n",
    "We can drop these values since it's a small portion of missing values throughout the data"
   ]
  },
  {
   "cell_type": "code",
   "execution_count": 5,
   "id": "0f96d3a0",
   "metadata": {},
   "outputs": [],
   "source": [
    "links_df.dropna(subset=['tmdbId'], inplace=True)"
   ]
  },
  {
   "cell_type": "markdown",
   "id": "b8efb2c4",
   "metadata": {},
   "source": [
    "## Visualizations\n",
    "\n",
    "I'll start with a visualization of the ratings and the amount of ratings recorded."
   ]
  },
  {
   "cell_type": "code",
   "execution_count": 6,
   "id": "dafc29c8-cbce-4fa4-b675-73d8b4853095",
   "metadata": {},
   "outputs": [
    {
     "data": {
      "image/png": "[encoded data removed]",
      "text/plain": [
       "<Figure size 800x600 with 1 Axes>"
      ]
     },
     "metadata": {},
     "output_type": "display_data"
    }
   ],
   "source": [
    "# Plot the distribution of ratings\n",
    "plt.figure(figsize=(8, 6))\n",
    "sns.histplot(ratings_df['rating'], bins=10, kde=False, color='blue')\n",
    "plt.title('Distribution of Ratings', fontsize=16)\n",
    "plt.xlabel('Rating', fontsize=12)\n",
    "plt.ylabel('Frequency', fontsize=12)\n",
    "plt.grid(axis='y', linestyle='--', alpha=0.7)\n",
    "plt.savefig('./images/Distribution_of_ratings.png')\n",
    "plt.show()\n"
   ]
  },
  {
   "cell_type": "markdown",
   "id": "e091d2c1",
   "metadata": {},
   "source": [
    "The distribution of ratings shows clear peaks at rounded values (e.g., 3.0, 4.0, 5.0), suggesting users prefer whole-number ratings. The majority of ratings seem to lean towards higher values, indicating that users may tend to rate movies positively.\n",
    "\n",
    "Next, we'll identify the most and least rated movies."
   ]
  },
  {
   "cell_type": "code",
   "execution_count": 7,
   "id": "878602de",
   "metadata": {},
   "outputs": [
    {
     "name": "stdout",
     "output_type": "stream",
     "text": [
      "Most Rated Movies:\n",
      "                                    title                       genres  \\\n",
      "movieId                                                                  \n",
      "356                   Forrest Gump (1994)     Comedy|Drama|Romance|War   \n",
      "318      Shawshank Redemption, The (1994)                  Crime|Drama   \n",
      "296                   Pulp Fiction (1994)  Comedy|Crime|Drama|Thriller   \n",
      "593      Silence of the Lambs, The (1991)        Crime|Horror|Thriller   \n",
      "2571                   Matrix, The (1999)       Action|Sci-Fi|Thriller   \n",
      "\n",
      "         rating_count  \n",
      "movieId                \n",
      "356               329  \n",
      "318               317  \n",
      "296               307  \n",
      "593               279  \n",
      "2571              278  \n",
      "\n",
      " Least Rated Movies:\n",
      "                                               title          genres  \\\n",
      "movieId                                                                \n",
      "86279                           Into Eternity (2010)     Documentary   \n",
      "86922    Nothing to Declare (Rien à déclarer) (2010)          Comedy   \n",
      "5962                         Body of Evidence (1993)  Drama|Thriller   \n",
      "87660                         Too Big to Fail (2011)           Drama   \n",
      "163981                                     31 (2016)          Horror   \n",
      "\n",
      "         rating_count  \n",
      "movieId                \n",
      "86279               1  \n",
      "86922               1  \n",
      "5962                1  \n",
      "87660               1  \n",
      "163981              1  \n"
     ]
    }
   ],
   "source": [
    "# Movie statistics: Number of ratings per movie\n",
    "movie_rating_counts = ratings_df['movieId'].value_counts()\n",
    "most_rated_movies = movie_rating_counts.head(5)\n",
    "least_rated_movies = movie_rating_counts.tail(5)\n",
    "\n",
    "# Merge with movies_df to get movie titles for the most/least-rated movies\n",
    "most_rated_movies_df = movies_df[movies_df['movieId'].isin(most_rated_movies.index)]\n",
    "most_rated_movies_df = most_rated_movies_df.set_index('movieId').loc[most_rated_movies.index]\n",
    "most_rated_movies_df['rating_count'] = most_rated_movies.values\n",
    "\n",
    "#Least-rated movies\n",
    "least_rated_movies_df = movies_df[movies_df['movieId'].isin(least_rated_movies.index)]\n",
    "least_rated_movies_df = least_rated_movies_df.set_index('movieId').loc[least_rated_movies.index]\n",
    "least_rated_movies_df['rating_count'] = least_rated_movies.values\n",
    "\n",
    "print('Most Rated Movies:')\n",
    "print(most_rated_movies_df)\n",
    "\n",
    "print('\\n Least Rated Movies:')\n",
    "print(least_rated_movies_df)\n"
   ]
  },
  {
   "cell_type": "markdown",
   "id": "b1d0b8a4",
   "metadata": {},
   "source": [
    "Let's visualize the Top 5 Most rated Movies"
   ]
  },
  {
   "cell_type": "code",
   "execution_count": 8,
   "id": "7f0a59a1",
   "metadata": {},
   "outputs": [
    {
     "data": {
      "image/png": "[encoded data removed]",
      "text/plain": [
       "<Figure size 1000x600 with 1 Axes>"
      ]
     },
     "metadata": {},
     "output_type": "display_data"
    }
   ],
   "source": [
    "# Plot most-rated movies\n",
    "plt.figure(figsize=(10, 6))\n",
    "plt.barh(most_rated_movies_df['title'], most_rated_movies_df['rating_count'], color='skyblue')\n",
    "plt.title('Top 5 Most-Rated Movies', fontsize=16)\n",
    "plt.xlabel('Number of Ratings', fontsize=12)\n",
    "plt.ylabel('Movie Title', fontsize=12)\n",
    "plt.gca().invert_yaxis()  # Invert y-axis to have the most-rated movie on top\n",
    "plt.grid(axis='x', linestyle='--', alpha=0.7)\n",
    "plt.savefig('./images/Top_5_most_rated_movies.png')\n",
    "plt.show()\n"
   ]
  },
  {
   "cell_type": "markdown",
   "id": "bcb0e6b8",
   "metadata": {},
   "source": [
    "We can see that the top reported rated movie was Forrest Gump, followed by Shawshank Redemption, Pulp Fiction, Silence of the Lambs, and Matrix. This will help identify user preferences and which movies are most widely rated.\n"
   ]
  },
  {
   "cell_type": "markdown",
   "id": "a1c7bda1",
   "metadata": {},
   "source": [
    "Let's do the same with the 5 least rated movies"
   ]
  },
  {
   "cell_type": "code",
   "execution_count": 9,
   "id": "1299f6ac",
   "metadata": {},
   "outputs": [
    {
     "data": {
      "image/png": "[encoded data removed]",
      "text/plain": [
       "<Figure size 1000x600 with 1 Axes>"
      ]
     },
     "metadata": {},
     "output_type": "display_data"
    }
   ],
   "source": [
    "# Plot least-rated movies\n",
    "plt.figure(figsize=(10, 6))\n",
    "plt.barh(least_rated_movies_df['title'], least_rated_movies_df['rating_count'], color='salmon')\n",
    "plt.title('Top 5 Least-Rated Movies', fontsize=16)\n",
    "plt.xlabel('Number of Ratings', fontsize=12)\n",
    "plt.ylabel('Movie Title', fontsize=12)\n",
    "plt.gca().invert_yaxis()  # Invert y-axis to have the least-rated movie on top\n",
    "plt.grid(axis='x', linestyle='--', alpha=0.7)\n",
    "plt.savefig('./images/Top_5_least_rated_movies.png')\n",
    "plt.show()\n"
   ]
  },
  {
   "cell_type": "markdown",
   "id": "6c4060e6",
   "metadata": {},
   "source": [
    "Movie popularity\n",
    "\n",
    "Popular movies (those rated by many users) tend to be older or critically acclaimed. Most movies have very few ratings, making recommendations challenging for niche movies."
   ]
  },
  {
   "cell_type": "code",
   "execution_count": 10,
   "id": "c26af652",
   "metadata": {},
   "outputs": [
    {
     "data": {
      "image/png": "[encoded data removed]",
      "text/plain": [
       "<Figure size 1000x600 with 1 Axes>"
      ]
     },
     "metadata": {},
     "output_type": "display_data"
    }
   ],
   "source": [
    "movie_ratings_count = ratings_df.groupby('movieId')['rating'].count()\n",
    "plt.figure(figsize=(10, 6))\n",
    "sns.histplot(movie_ratings_count, bins=30, kde=False, color='orange')\n",
    "plt.title('Number of Ratings per Movie')\n",
    "plt.xlabel('Number of Ratings')\n",
    "plt.ylabel('Count of Movies')\n",
    "plt.show()\n"
   ]
  },
  {
   "cell_type": "markdown",
   "id": "1ff784e6",
   "metadata": {},
   "source": [
    "Genre Distribution\n",
    "\n",
    "Movies are grouped by genres to understand the dominant categories. Popular genres include Drama, Comedy, and Action.\n",
    "\n",
    "Movies often belong to multiple genres."
   ]
  },
  {
   "cell_type": "code",
   "execution_count": 11,
   "id": "84f5589d",
   "metadata": {},
   "outputs": [
    {
     "data": {
      "image/png": "[encoded data removed]",
      "text/plain": [
       "<Figure size 1200x600 with 1 Axes>"
      ]
     },
     "metadata": {},
     "output_type": "display_data"
    }
   ],
   "source": [
    "from collections import Counter\n",
    "genre_list = movies_df['genres'].str.split('|').explode()\n",
    "genre_counts = Counter(genre_list)\n",
    "\n",
    "plt.figure(figsize=(12, 6))\n",
    "sns.barplot(x=list(genre_counts.keys()), y=list(genre_counts.values()), color='purple')\n",
    "plt.title('Genre Distribution')\n",
    "plt.xlabel('Genres')\n",
    "plt.ylabel('Count')\n",
    "plt.xticks(rotation=45)\n",
    "plt.savefig('./images/Genre_distribution.png')\n",
    "plt.show()\n"
   ]
  },
  {
   "cell_type": "markdown",
   "id": "55f26bb0",
   "metadata": {},
   "source": [
    "Just like above, we can see the least rated recorded movies. This will provide insight into what movies users consider be least entertaining."
   ]
  },
  {
   "cell_type": "markdown",
   "id": "3331da50",
   "metadata": {},
   "source": [
    "### Explore User Statistics\n",
    "\n",
    "Next lets focus on the Most and Least active users based on how many ratings they have provided."
   ]
  },
  {
   "cell_type": "code",
   "execution_count": 12,
   "id": "3c794911",
   "metadata": {},
   "outputs": [
    {
     "name": "stdout",
     "output_type": "stream",
     "text": [
      "Most Active Users:\n",
      "\n",
      "userId\n",
      "414    2698\n",
      "599    2478\n",
      "474    2108\n",
      "448    1864\n",
      "274    1346\n",
      "Name: count, dtype: int64\n",
      "\n",
      " Least Active Users:\n",
      "                                               title          genres  \\\n",
      "movieId                                                                \n",
      "86279                           Into Eternity (2010)     Documentary   \n",
      "86922    Nothing to Declare (Rien à déclarer) (2010)          Comedy   \n",
      "5962                         Body of Evidence (1993)  Drama|Thriller   \n",
      "87660                         Too Big to Fail (2011)           Drama   \n",
      "163981                                     31 (2016)          Horror   \n",
      "\n",
      "         rating_count  \n",
      "movieId                \n",
      "86279               1  \n",
      "86922               1  \n",
      "5962                1  \n",
      "87660               1  \n",
      "163981              1  \n"
     ]
    }
   ],
   "source": [
    "# Count the number of ratings per user\n",
    "user_rating_counts = ratings_df['userId'].value_counts()\n",
    "\n",
    "# Get the most active users\n",
    "most_active_users = user_rating_counts.head()\n",
    "\n",
    "# Get the least active users\n",
    "least_active_users = user_rating_counts.tail()\n",
    "\n",
    "#print results\n",
    "print('Most Active Users:\\n')\n",
    "print(most_active_users)\n",
    "\n",
    "print('\\n Least Active Users:')\n",
    "print(least_rated_movies_df)"
   ]
  },
  {
   "cell_type": "markdown",
   "id": "4cf0f86b",
   "metadata": {},
   "source": [
    "The most active users have rated a large number of movies, likely representing the highly engagaed users. Their ratings can provide valuable insights for collaborative filtering or building recommendation systems.\n",
    "\n",
    "The least active users have contributed very few ratings, this may pose challenges for our recommendation systems due to the lack of data (the cold start problem)"
   ]
  },
  {
   "cell_type": "markdown",
   "id": "39950eed",
   "metadata": {},
   "source": [
    "Let's continue by creating a Collaborative Filtering-based Recommendation System.\n",
    "\n",
    "I'll preprocess the data doing the following:\n",
    "\n",
    "* Create a user-item matrix where rows represent users, columns represent movies, and cells contain ratings.\n",
    "* Normalize ratings (optional, depending on the algorithm used).\n",
    "* Handle sparsity (e.g., fill missing values with 0 or leave as NaN, depending on the algorithm)."
   ]
  },
  {
   "cell_type": "code",
   "execution_count": 13,
   "id": "ba6e0eff",
   "metadata": {},
   "outputs": [
    {
     "name": "stdout",
     "output_type": "stream",
     "text": [
      "movieId  1       2       3       4       5       6       7       8       \\\n",
      "userId                                                                    \n",
      "1           4.0     NaN     4.0     NaN     NaN     4.0     NaN     NaN   \n",
      "2           NaN     NaN     NaN     NaN     NaN     NaN     NaN     NaN   \n",
      "3           NaN     NaN     NaN     NaN     NaN     NaN     NaN     NaN   \n",
      "4           NaN     NaN     NaN     NaN     NaN     NaN     NaN     NaN   \n",
      "5           4.0     NaN     NaN     NaN     NaN     NaN     NaN     NaN   \n",
      "\n",
      "movieId  9       10      ...  193565  193567  193571  193573  193579  193581  \\\n",
      "userId                   ...                                                   \n",
      "1           NaN     NaN  ...     NaN     NaN     NaN     NaN     NaN     NaN   \n",
      "2           NaN     NaN  ...     NaN     NaN     NaN     NaN     NaN     NaN   \n",
      "3           NaN     NaN  ...     NaN     NaN     NaN     NaN     NaN     NaN   \n",
      "4           NaN     NaN  ...     NaN     NaN     NaN     NaN     NaN     NaN   \n",
      "5           NaN     NaN  ...     NaN     NaN     NaN     NaN     NaN     NaN   \n",
      "\n",
      "movieId  193583  193585  193587  193609  \n",
      "userId                                   \n",
      "1           NaN     NaN     NaN     NaN  \n",
      "2           NaN     NaN     NaN     NaN  \n",
      "3           NaN     NaN     NaN     NaN  \n",
      "4           NaN     NaN     NaN     NaN  \n",
      "5           NaN     NaN     NaN     NaN  \n",
      "\n",
      "[5 rows x 9724 columns]\n"
     ]
    }
   ],
   "source": [
    "# create a user-item matrix\n",
    "user_item_matrix =  ratings_df.pivot_table(index='userId', columns='movieId', values='rating')\n",
    "\n",
    "# Display the matrix\n",
    "print(user_item_matrix.head())"
   ]
  },
  {
   "cell_type": "markdown",
   "id": "8d51df43",
   "metadata": {},
   "source": [
    "The user-item generated matrix is sparse. Let's attempt to handle this sparsity and building the recommendation model.\n",
    "\n",
    "Since the user-item matrix contains **NaN** value for unrated movies, let's factorize the user-item matrix to uncover latent features"
   ]
  },
  {
   "cell_type": "code",
   "execution_count": 14,
   "id": "481892e3",
   "metadata": {},
   "outputs": [
    {
     "name": "stdout",
     "output_type": "stream",
     "text": [
      "Number of users: 610 \n",
      "\n",
      "Number of items: 9724\n"
     ]
    }
   ],
   "source": [
    "# prepare the dataset for Surprise\n",
    "reader = Reader(rating_scale=(0.5,5))\n",
    "data = Dataset.load_from_df(ratings_df[['userId', 'movieId', 'rating']], reader)\n",
    "\n",
    "# show the amount of users and items in the dataset.\n",
    "dataset = data.build_full_trainset()\n",
    "print(f'Number of users: {dataset.n_users} \\n')\n",
    "print(f'Number of items: {dataset.n_items}')"
   ]
  },
  {
   "cell_type": "markdown",
   "id": "7e0d9e0c",
   "metadata": {},
   "source": [
    "## Determine the best model\n",
    "\n",
    "Lets determine the best model for the dataset. We'll start with a baseline GridSearchCV below."
   ]
  },
  {
   "cell_type": "code",
   "execution_count": 15,
   "id": "b30d69fe",
   "metadata": {},
   "outputs": [],
   "source": [
    "param_grid = {\n",
    "    #latent factors\n",
    "    'n_factors': [50,100,150],\n",
    "    #number of iterations\n",
    "    'n_epochs': [10,20,30],\n",
    "    #learning rate\n",
    "    'lr_all': [0.002,0.005,0.01],\n",
    "    #regularization\n",
    "    'reg_all': [0.02,0.1,0.2]\n",
    "}"
   ]
  },
  {
   "cell_type": "code",
   "execution_count": 16,
   "id": "2fd941bf",
   "metadata": {},
   "outputs": [
    {
     "name": "stdout",
     "output_type": "stream",
     "text": [
      "{'rmse': 0.853965923124506, 'mae': 0.6548290905308177}\n",
      "{'rmse': {'n_factors': 150, 'n_epochs': 30, 'lr_all': 0.01, 'reg_all': 0.1}, 'mae': {'n_factors': 150, 'n_epochs': 30, 'lr_all': 0.01, 'reg_all': 0.1}}\n"
     ]
    }
   ],
   "source": [
    "gs = GridSearchCV(SVD, param_grid, measures=['rmse', 'mae'], cv=5, n_jobs=-1)\n",
    "gs.fit(data)\n",
    "\n",
    "print(gs.best_score)\n",
    "print(gs.best_params)"
   ]
  },
  {
   "cell_type": "markdown",
   "id": "135882a5",
   "metadata": {},
   "source": [
    "#### Cross Validation with KNNBasic"
   ]
  },
  {
   "cell_type": "code",
   "execution_count": 17,
   "id": "bf2c9eb7",
   "metadata": {},
   "outputs": [
    {
     "name": "stdout",
     "output_type": "stream",
     "text": [
      "('test_rmse', array([0.93377805, 0.95504191, 0.94482047, 0.95682442, 0.94545856]))\n",
      "('test_mae', array([0.71775427, 0.73014032, 0.7250956 , 0.72987706, 0.72375657]))\n",
      "('fit_time', (0.17053008079528809, 0.1775672435760498, 0.17782211303710938, 0.1797940731048584, 0.17627477645874023))\n",
      "('test_time', (1.249664068222046, 1.2713510990142822, 1.2602977752685547, 1.2340819835662842, 1.201789379119873))\n",
      "\n",
      "0.9471846814219868\n"
     ]
    }
   ],
   "source": [
    "knn_basic = KNNBasic(sim_options={'names': 'cosine', 'user_based': True})\n",
    "\n",
    "cv_knn_basic = cross_validate(knn_basic, data, n_jobs=-1)\n",
    "\n",
    "\n",
    "for i in cv_knn_basic.items():\n",
    "    print(i)\n",
    "\n",
    "print()\n",
    "print(np.mean(cv_knn_basic['test_rmse']))"
   ]
  },
  {
   "cell_type": "markdown",
   "id": "a64f8d1c",
   "metadata": {},
   "source": [
    "This cross validation score indidcates the model is evaluated on unseen data, which adds credibility."
   ]
  },
  {
   "cell_type": "code",
   "execution_count": 18,
   "id": "28aea24c",
   "metadata": {},
   "outputs": [
    {
     "name": "stdout",
     "output_type": "stream",
     "text": [
      "('test_rmse', array([0.97335041, 0.97438207, 0.97688419, 0.97314794, 0.97295116]))\n",
      "('test_mae', array([0.74981522, 0.75331189, 0.75611292, 0.74926465, 0.75270308]))\n",
      "('fit_time', (0.5341639518737793, 0.549760103225708, 0.5816328525543213, 0.5492444038391113, 0.5010840892791748))\n",
      "('test_time', (1.1487257480621338, 1.2105193138122559, 1.2088618278503418, 1.169022798538208, 1.196779727935791))\n",
      "\n",
      "0.9741431540202553\n"
     ]
    }
   ],
   "source": [
    "knn_basic_pearson = KNNBasic(sim_options={'name':'pearson', 'user_based': True})\n",
    "\n",
    "cv_knn_basic_pearson = cross_validate(knn_basic_pearson, data, n_jobs=-1)\n",
    "\n",
    "for i in cv_knn_basic_pearson.items():\n",
    "    print(i)\n",
    "    \n",
    "print()\n",
    "print(np.mean(cv_knn_basic_pearson['test_rmse']))"
   ]
  },
  {
   "cell_type": "markdown",
   "id": "d67de43d",
   "metadata": {},
   "source": [
    "We see an increase using pearson correlation, which indicates a veryh strong correlation between users in our recommendations system. This is finding a strong linear similarity between users perference "
   ]
  },
  {
   "cell_type": "markdown",
   "id": "95aa9b97",
   "metadata": {},
   "source": [
    "#### Cross validation with KNNBaseline"
   ]
  },
  {
   "cell_type": "code",
   "execution_count": 19,
   "id": "43030e90",
   "metadata": {},
   "outputs": [
    {
     "name": "stdout",
     "output_type": "stream",
     "text": [
      "Estimating biases using als...\n",
      "Computing the cosine similarity matrix...\n",
      "Done computing similarity matrix.\n",
      "Estimating biases using als...\n",
      "Computing the cosine similarity matrix...\n",
      "Done computing similarity matrix.\n",
      "Estimating biases using als...\n",
      "Computing the cosine similarity matrix...\n",
      "Done computing similarity matrix.\n",
      "Estimating biases using als...\n",
      "Computing the cosine similarity matrix...\n",
      "Done computing similarity matrix.\n",
      "Estimating biases using als...\n",
      "Computing the cosine similarity matrix...\n",
      "Done computing similarity matrix.\n"
     ]
    }
   ],
   "source": [
    "knn_baseline = KNNBaseline(sim_options={'name': 'cosine', 'user_based': True})\n",
    "\n",
    "cv_knn_baseline = cross_validate(knn_baseline, data)"
   ]
  },
  {
   "cell_type": "code",
   "execution_count": 20,
   "id": "d0070a7c",
   "metadata": {},
   "outputs": [
    {
     "name": "stdout",
     "output_type": "stream",
     "text": [
      "Estimating biases using als...\n",
      "Computing the pearson similarity matrix...\n",
      "Done computing similarity matrix.\n",
      "Estimating biases using als...\n",
      "Computing the pearson similarity matrix...\n",
      "Done computing similarity matrix.\n",
      "Estimating biases using als...\n",
      "Computing the pearson similarity matrix...\n",
      "Done computing similarity matrix.\n",
      "Estimating biases using als...\n",
      "Computing the pearson similarity matrix...\n",
      "Done computing similarity matrix.\n",
      "Estimating biases using als...\n",
      "Computing the pearson similarity matrix...\n",
      "Done computing similarity matrix.\n"
     ]
    }
   ],
   "source": [
    "knn_baseline_pearson = KNNBaseline(sim_options={'name':'pearson', 'user_based': True})\n",
    "\n",
    "cv_knn_baseline_pearson = cross_validate(knn_baseline_pearson, data)"
   ]
  },
  {
   "cell_type": "code",
   "execution_count": 21,
   "id": "bdd40aab",
   "metadata": {},
   "outputs": [
    {
     "name": "stdout",
     "output_type": "stream",
     "text": [
      "('test_rmse', array([0.86946392, 0.88758219, 0.87360083, 0.87946814, 0.88154208]))\n",
      "('test_mae', array([0.66800424, 0.67717245, 0.66936654, 0.67252046, 0.67300661]))\n",
      "('fit_time', (0.6129767894744873, 0.6230480670928955, 0.6201424598693848, 0.5899600982666016, 0.5972385406494141))\n",
      "('test_time', (1.6198770999908447, 1.5213983058929443, 1.6731767654418945, 1.4989924430847168, 1.6323800086975098))\n",
      "----------------------------------------\n",
      "0.8783314325928178\n"
     ]
    }
   ],
   "source": [
    "for i in cv_knn_baseline.items():\n",
    "    print(i)\n",
    "print('----------------------------------------')\n",
    "print(np.mean(cv_knn_baseline['test_rmse']))"
   ]
  },
  {
   "cell_type": "code",
   "execution_count": 22,
   "id": "5670b642",
   "metadata": {},
   "outputs": [
    {
     "name": "stdout",
     "output_type": "stream",
     "text": [
      "('test_rmse', array([0.87063622, 0.88431692, 0.87848383, 0.87969745, 0.87537622]))\n",
      "('test_mae', array([0.66657565, 0.67369575, 0.67165136, 0.66952489, 0.66892125]))\n",
      "('fit_time', (0.6592209339141846, 0.6662306785583496, 0.6627259254455566, 0.6539926528930664, 0.672799825668335))\n",
      "('test_time', (1.4815943241119385, 1.6067407131195068, 1.430887222290039, 1.5978310108184814, 1.4674453735351562))\n",
      "----------------------------------------\n",
      "0.877702128701982\n"
     ]
    }
   ],
   "source": [
    "for i in cv_knn_baseline_pearson.items():\n",
    "    print(i)\n",
    "print('----------------------------------------')\n",
    "print(np.mean(cv_knn_baseline_pearson['test_rmse']))\n"
   ]
  },
  {
   "cell_type": "markdown",
   "id": "706666b4",
   "metadata": {},
   "source": [
    "An RMSE of 0.87 indicates the model is predicting ratings with ~0.88 points on average. This is if your rating is 1-5."
   ]
  },
  {
   "cell_type": "code",
   "execution_count": 23,
   "id": "dbce625f",
   "metadata": {},
   "outputs": [
    {
     "name": "stdout",
     "output_type": "stream",
     "text": [
      "      Metric   Trial 1   Trial 2   Trial 3   Trial 4   Trial 5  Mean Value\n",
      "0       RMSE  0.883204  0.873930  0.878870  0.882710  0.870059    0.877755\n",
      "1        MAE  0.674164  0.668396  0.670202  0.673541  0.665232    0.670307\n",
      "2   Fit Time  0.714119  0.661952  0.664535  0.682986  0.714833    0.687685\n",
      "3  Test Time  1.449852  1.548015  1.397060  1.431279  1.443580    1.453957\n"
     ]
    }
   ],
   "source": [
    "cv_knn_baseline_pearson = {\n",
    "    'test_rmse': np.array([0.88320436, 0.87393027, 0.87886961, 0.88271028, 0.87005935]),\n",
    "    'test_mae': np.array([0.67416398, 0.66839604, 0.67020244, 0.67354113, 0.66523176]),\n",
    "    'fit_time': (0.7141189575195312, 0.6619524955749512, 0.6645345687866211, 0.6829862594604492, 0.7148327827453613),\n",
    "    'test_time': (1.4498515129089355, 1.5480153560638428, 1.397059679031372, 1.431279182434082, 1.4435803890228271)\n",
    "}\n",
    "\n",
    "# Create a dictionary for the DataFrame\n",
    "data = {\n",
    "    \"Metric\": [\"RMSE\", \"MAE\", \"Fit Time\", \"Test Time\"],\n",
    "    \"Trial 1\": [cv_knn_baseline_pearson['test_rmse'][0], cv_knn_baseline_pearson['test_mae'][0], \n",
    "                cv_knn_baseline_pearson['fit_time'][0], cv_knn_baseline_pearson['test_time'][0]],\n",
    "    \"Trial 2\": [cv_knn_baseline_pearson['test_rmse'][1], cv_knn_baseline_pearson['test_mae'][1], \n",
    "                cv_knn_baseline_pearson['fit_time'][1], cv_knn_baseline_pearson['test_time'][1]],\n",
    "    \"Trial 3\": [cv_knn_baseline_pearson['test_rmse'][2], cv_knn_baseline_pearson['test_mae'][2], \n",
    "                cv_knn_baseline_pearson['fit_time'][2], cv_knn_baseline_pearson['test_time'][2]],\n",
    "    \"Trial 4\": [cv_knn_baseline_pearson['test_rmse'][3], cv_knn_baseline_pearson['test_mae'][3], \n",
    "                cv_knn_baseline_pearson['fit_time'][3], cv_knn_baseline_pearson['test_time'][3]],\n",
    "    \"Trial 5\": [cv_knn_baseline_pearson['test_rmse'][4], cv_knn_baseline_pearson['test_mae'][4], \n",
    "                cv_knn_baseline_pearson['fit_time'][4], cv_knn_baseline_pearson['test_time'][4]],\n",
    "    \"Mean Value\": [\n",
    "        np.mean(cv_knn_baseline_pearson['test_rmse']),\n",
    "        np.mean(cv_knn_baseline_pearson['test_mae']),\n",
    "        np.mean(cv_knn_baseline_pearson['fit_time']),\n",
    "        np.mean(cv_knn_baseline_pearson['test_time']),\n",
    "    ]\n",
    "}\n",
    "\n",
    "# Convert to DataFrame\n",
    "df = pd.DataFrame(data)\n",
    "\n",
    "df.to_csv('cross_val_metrics.csv', index=False)\n",
    "\n",
    "# Display the DataFrame\n",
    "print(df)"
   ]
  },
  {
   "cell_type": "markdown",
   "id": "99edb871",
   "metadata": {},
   "source": [
    "## Modeling"
   ]
  },
  {
   "cell_type": "markdown",
   "id": "af606414",
   "metadata": {},
   "source": [
    "##### Making simple prediction"
   ]
  },
  {
   "cell_type": "code",
   "execution_count": 24,
   "id": "5ca08554",
   "metadata": {},
   "outputs": [
    {
     "name": "stdout",
     "output_type": "stream",
     "text": [
      "0.853965923124506\n",
      "{'n_factors': 150, 'n_epochs': 30, 'lr_all': 0.01, 'reg_all': 0.1}\n"
     ]
    },
    {
     "ename": "AttributeError",
     "evalue": "'dict' object has no attribute 'raw_ratings'",
     "output_type": "error",
     "traceback": [
      "\u001b[1;31m---------------------------------------------------------------------------\u001b[0m",
      "\u001b[1;31mAttributeError\u001b[0m                            Traceback (most recent call last)",
      "Cell \u001b[1;32mIn[24], line 8\u001b[0m\n\u001b[0;32m      5\u001b[0m \u001b[38;5;28mprint\u001b[39m(best_params)\n\u001b[0;32m      7\u001b[0m \u001b[38;5;66;03m# split into training and testing sets\u001b[39;00m\n\u001b[1;32m----> 8\u001b[0m trainset, testset \u001b[38;5;241m=\u001b[39m \u001b[43mtrain_test_split\u001b[49m\u001b[43m(\u001b[49m\u001b[43mdata\u001b[49m\u001b[43m,\u001b[49m\u001b[43m \u001b[49m\u001b[43mtest_size\u001b[49m\u001b[38;5;241;43m=\u001b[39;49m\u001b[38;5;241;43m0.2\u001b[39;49m\u001b[43m,\u001b[49m\u001b[43m \u001b[49m\u001b[43mrandom_state\u001b[49m\u001b[38;5;241;43m=\u001b[39;49m\u001b[38;5;241;43m36\u001b[39;49m\u001b[43m)\u001b[49m\n",
      "File \u001b[1;32m~\\anaconda3\\Lib\\site-packages\\surprise\\model_selection\\split.py:355\u001b[0m, in \u001b[0;36mtrain_test_split\u001b[1;34m(data, test_size, train_size, random_state, shuffle)\u001b[0m\n\u001b[0;32m    319\u001b[0m \u001b[38;5;250m\u001b[39m\u001b[38;5;124;03m\"\"\"Split a dataset into trainset and testset.\u001b[39;00m\n\u001b[0;32m    320\u001b[0m \n\u001b[0;32m    321\u001b[0m \u001b[38;5;124;03mSee an example in the :ref:`User Guide <train_test_split_example>`.\u001b[39;00m\n\u001b[1;32m   (...)\u001b[0m\n\u001b[0;32m    346\u001b[0m \u001b[38;5;124;03m        parameter. Shuffling is not done in-place. Default is ``True``.\u001b[39;00m\n\u001b[0;32m    347\u001b[0m \u001b[38;5;124;03m\"\"\"\u001b[39;00m\n\u001b[0;32m    348\u001b[0m ss \u001b[38;5;241m=\u001b[39m ShuffleSplit(\n\u001b[0;32m    349\u001b[0m     n_splits\u001b[38;5;241m=\u001b[39m\u001b[38;5;241m1\u001b[39m,\n\u001b[0;32m    350\u001b[0m     test_size\u001b[38;5;241m=\u001b[39mtest_size,\n\u001b[1;32m   (...)\u001b[0m\n\u001b[0;32m    353\u001b[0m     shuffle\u001b[38;5;241m=\u001b[39mshuffle,\n\u001b[0;32m    354\u001b[0m )\n\u001b[1;32m--> 355\u001b[0m \u001b[38;5;28;01mreturn\u001b[39;00m \u001b[38;5;28;43mnext\u001b[39;49m\u001b[43m(\u001b[49m\u001b[43mss\u001b[49m\u001b[38;5;241;43m.\u001b[39;49m\u001b[43msplit\u001b[49m\u001b[43m(\u001b[49m\u001b[43mdata\u001b[49m\u001b[43m)\u001b[49m\u001b[43m)\u001b[49m\n",
      "File \u001b[1;32m~\\anaconda3\\Lib\\site-packages\\surprise\\model_selection\\split.py:289\u001b[0m, in \u001b[0;36mShuffleSplit.split\u001b[1;34m(self, data)\u001b[0m\n\u001b[0;32m    277\u001b[0m \u001b[38;5;28;01mdef\u001b[39;00m \u001b[38;5;21msplit\u001b[39m(\u001b[38;5;28mself\u001b[39m, data):\n\u001b[0;32m    278\u001b[0m \u001b[38;5;250m    \u001b[39m\u001b[38;5;124;03m\"\"\"Generator function to iterate over trainsets and testsets.\u001b[39;00m\n\u001b[0;32m    279\u001b[0m \n\u001b[0;32m    280\u001b[0m \u001b[38;5;124;03m    Args:\u001b[39;00m\n\u001b[1;32m   (...)\u001b[0m\n\u001b[0;32m    285\u001b[0m \u001b[38;5;124;03m        tuple of (trainset, testset)\u001b[39;00m\n\u001b[0;32m    286\u001b[0m \u001b[38;5;124;03m    \"\"\"\u001b[39;00m\n\u001b[0;32m    288\u001b[0m     test_size, train_size \u001b[38;5;241m=\u001b[39m \u001b[38;5;28mself\u001b[39m\u001b[38;5;241m.\u001b[39mvalidate_train_test_sizes(\n\u001b[1;32m--> 289\u001b[0m         \u001b[38;5;28mself\u001b[39m\u001b[38;5;241m.\u001b[39mtest_size, \u001b[38;5;28mself\u001b[39m\u001b[38;5;241m.\u001b[39mtrain_size, \u001b[38;5;28mlen\u001b[39m(\u001b[43mdata\u001b[49m\u001b[38;5;241;43m.\u001b[39;49m\u001b[43mraw_ratings\u001b[49m)\n\u001b[0;32m    290\u001b[0m     )\n\u001b[0;32m    291\u001b[0m     rng \u001b[38;5;241m=\u001b[39m get_rng(\u001b[38;5;28mself\u001b[39m\u001b[38;5;241m.\u001b[39mrandom_state)\n\u001b[0;32m    293\u001b[0m     \u001b[38;5;28;01mfor\u001b[39;00m _ \u001b[38;5;129;01min\u001b[39;00m \u001b[38;5;28mrange\u001b[39m(\u001b[38;5;28mself\u001b[39m\u001b[38;5;241m.\u001b[39mn_splits):\n",
      "\u001b[1;31mAttributeError\u001b[0m: 'dict' object has no attribute 'raw_ratings'"
     ]
    }
   ],
   "source": [
    "best_rmse = gs.best_score['rmse']\n",
    "best_params = gs.best_params['rmse']\n",
    "\n",
    "print(best_rmse)\n",
    "print(best_params)\n",
    "\n",
    "# split into training and testing sets\n",
    "trainset, testset = train_test_split(data, test_size=0.2, random_state=36)"
   ]
  },
  {
   "cell_type": "markdown",
   "id": "29382af0",
   "metadata": {},
   "source": [
    "Let's grab the best RMSE score to indicate the error of possible predictions on the test data during cross=validation. \n",
    "\n",
    "I'll also retrieve the best hyperparameters., splitting the dataset. This helps to find the best-performing model by tuning the hyperparameter evaluating its predictive accuracy on unsseen data.\n"
   ]
  },
  {
   "cell_type": "code",
   "execution_count": null,
   "id": "bfdba4bd",
   "metadata": {},
   "outputs": [],
   "source": [
    "basic = KNNBasic(sim_options={'name':'cosine', 'user_based': True})\n",
    "basic.fit(trainset)"
   ]
  },
  {
   "cell_type": "code",
   "execution_count": null,
   "id": "27a182cf",
   "metadata": {},
   "outputs": [],
   "source": [
    "basic.sim"
   ]
  },
  {
   "cell_type": "markdown",
   "id": "b03dcddf",
   "metadata": {},
   "source": [
    "KNN-based recommendation model is defined to use cosine similarity for user-based collaborative filtering. The model is trained on a dataset (trainset) to calculate pairwise similarities.\n",
    "\n",
    "**Similarity Matrix:**\n",
    "    The computed similarity matrix (basic.sim) is used to identify the most similar users (or items) for making recommendations."
   ]
  },
  {
   "cell_type": "code",
   "execution_count": null,
   "id": "713229bb",
   "metadata": {},
   "outputs": [],
   "source": [
    "predictions = basic.test(testset)"
   ]
  },
  {
   "cell_type": "code",
   "execution_count": null,
   "id": "040baa5a",
   "metadata": {},
   "outputs": [],
   "source": [
    "print(accuracy.rmse(predictions))"
   ]
  },
  {
   "cell_type": "markdown",
   "id": "0c53b8ff",
   "metadata": {},
   "source": [
    "0.97 indicates that the Basic KNN model is good."
   ]
  },
  {
   "cell_type": "code",
   "execution_count": null,
   "id": "6db22451",
   "metadata": {},
   "outputs": [],
   "source": [
    "basic_pearson = KNNBasic(sim_options={'name':'pearson', 'user_based': True})\n",
    "basic_pearson.fit(trainset)\n",
    "pearson_predictions = basic_pearson.test(testset)\n",
    "print(accuracy.rmse(pearson_predictions))"
   ]
  },
  {
   "cell_type": "markdown",
   "id": "2800e9fa",
   "metadata": {},
   "source": [
    "0.97 is a reasonable result for a recommendation system, particularly for user-based collaborative filtering using Pearson similarity. There can still be improvements to the model through "
   ]
  },
  {
   "cell_type": "code",
   "execution_count": null,
   "id": "b4ea01ce",
   "metadata": {},
   "outputs": [],
   "source": [
    "sim_cosine = KNNWithMeans(sim_options={'name':'cosine', 'user_based': True})\n",
    "sim_cosine.fit(trainset)\n",
    "cosine_predictions = sim_cosine.test(testset)\n",
    "print(accuracy.rmse(cosine_predictions))"
   ]
  },
  {
   "cell_type": "code",
   "execution_count": null,
   "id": "c3395534",
   "metadata": {},
   "outputs": [],
   "source": [
    "sim_pearson = KNNWithMeans(sim_options={'name':'pearson', 'user_based': True})\n",
    "sim_pearson.fit(trainset)\n",
    "pearson_predictions = sim_pearson.test(testset)\n",
    "print(accuracy.rmse(pearson_predictions))"
   ]
  },
  {
   "cell_type": "markdown",
   "id": "71d54e00",
   "metadata": {},
   "source": [
    "KNNWithMeans model with Pearson similarity is performing reasonably well, but further improvements can be made."
   ]
  },
  {
   "cell_type": "code",
   "execution_count": null,
   "id": "52134471",
   "metadata": {},
   "outputs": [],
   "source": [
    "baseline_cosine = KNNBaseline(sim_options={'name':'cosine', 'user_based': True})\n",
    "baseline_cosine.fit(trainset)\n",
    "cosine_predictions = baseline_cosine.test(testset)\n",
    "print(accuracy.rmse(cosine_predictions))"
   ]
  },
  {
   "cell_type": "code",
   "execution_count": null,
   "id": "5cf1885f",
   "metadata": {},
   "outputs": [],
   "source": [
    "baseline_pearson = KNNBaseline(sim_options={'name':'pearson', 'user_based': True})\n",
    "baseline_pearson.fit(trainset)\n",
    "pearson_predictions = baseline_pearson.test(testset)\n",
    "print(accuracy.rmse(pearson_predictions))"
   ]
  },
  {
   "cell_type": "markdown",
   "id": "de630d80",
   "metadata": {},
   "source": [
    "KNNBaseline with Pearson similarity gives an RMSE of 0.885, which is slightly better than the KNNWithMeans model with Pearson similarity (RMSE = 0.904).\n",
    "\n",
    "KNNBaseline adjusts for the bias (user mean), which may result in slightly better predictions, especially if there are large variations in user ratings.\n",
    "\n",
    "The improvement from 0.904 to 0.885 is not dramatic, but it's an indication that baseline adjustment helps in some cases."
   ]
  },
  {
   "cell_type": "code",
   "execution_count": null,
   "id": "a9315bc9",
   "metadata": {},
   "outputs": [],
   "source": [
    "#Train the SVD model\n",
    "model = SVD()\n",
    "# n_factors=150, n_epochs=30,lr_all=0.1, reg_all=0.1\n",
    "model.fit(trainset)\n",
    "\n",
    "#evaluate the model on the test set\n",
    "predictions = model.test(testset)\n",
    "rmse = accuracy.rmse(predictions)\n",
    "print(f'RMSE: {rmse}')"
   ]
  },
  {
   "cell_type": "markdown",
   "id": "15e9e19f",
   "metadata": {},
   "source": [
    "For better performance, I used a model like SVD. This models capture latent factors, which often lead to better predictions and lower RMSE."
   ]
  },
  {
   "cell_type": "markdown",
   "id": "71739b57-1010-4ee6-b1c8-5e35a0909808",
   "metadata": {},
   "source": [
    "## Making Predictions"
   ]
  },
  {
   "cell_type": "code",
   "execution_count": null,
   "id": "b515fd90",
   "metadata": {},
   "outputs": [],
   "source": [
    "user_prediction = model.predict(2,100)\n",
    "user_prediction"
   ]
  },
  {
   "cell_type": "code",
   "execution_count": null,
   "id": "f08cdfc3",
   "metadata": {},
   "outputs": [],
   "source": [
    "user_prediction[3]"
   ]
  },
  {
   "cell_type": "markdown",
   "id": "9c2ebc27",
   "metadata": {},
   "source": [
    "Lets create a function that will generate movie recommendations for a given user based on the model's predictions. "
   ]
  },
  {
   "cell_type": "code",
   "execution_count": null,
   "id": "5606c00c",
   "metadata": {},
   "outputs": [],
   "source": [
    "# Define a function to recommend top 5 movies for a given user\n",
    "def recommend_top_n(user_id, n=5):\n",
    "    # Get all movie IDs\n",
    "    all_movie_ids = ratings_df['movieId'].unique()\n",
    "    \n",
    "    # Predict ratings for all movies the user hasn't rated yet\n",
    "    user_rated_movies = ratings_df[ratings_df['userId'] == user_id]['movieId'].tolist()\n",
    "    movies_to_predict = [movie_id for movie_id in all_movie_ids if movie_id not in user_rated_movies]\n",
    "    \n",
    "    predictions = [\n",
    "        (movie_id, model.predict(user_id, movie_id).est) for movie_id in movies_to_predict\n",
    "    ]\n",
    "    \n",
    "    # Sort by predicted rating and select the top n\n",
    "    top_n_movies = sorted(predictions, key=lambda x: x[1], reverse=True)[:n]\n",
    "    \n",
    "    return top_n_movies\n",
    "\n",
    "# Example: Get recommendations for user ID 1\n",
    "user_id = ratings_df['userId'][0]\n",
    "top_movies = recommend_top_n(user_id)\n",
    "print(f\"Top {len(top_movies)} recommendations for User {user_id}:\")\n",
    "for movie_id, predicted_rating in top_movies:\n",
    "    print(f\"Movie ID {movie_id}: Predicted Rating {predicted_rating:.2f}\")\n"
   ]
  },
  {
   "cell_type": "markdown",
   "id": "151a02a8",
   "metadata": {},
   "source": [
    "The function provides the top rated movie within the dataset. For user 1"
   ]
  },
  {
   "cell_type": "markdown",
   "id": "15a6f014",
   "metadata": {},
   "source": [
    "##### Hyperparameter tuning\n",
    "\n",
    "Let's find the best RMSE score. This will be the lowest RMSE score obtained during grid seaerch across all combinations of hyperparameters."
   ]
  },
  {
   "cell_type": "code",
   "execution_count": null,
   "id": "76edc943",
   "metadata": {},
   "outputs": [],
   "source": [
    "model2 = SVD(n_factors=best_params['n_factors'],\n",
    "             n_epochs = best_params['n_epochs'],\n",
    "             lr_all=best_params['lr_all'],\n",
    "             reg_all=best_params['reg_all'])\n",
    "\n",
    "trainset2 = data.build_full_trainset()\n",
    "model2.fit(trainset2)\n",
    "\n",
    "#evakuate model 2\n",
    "trainsets, testsets, = train_test_split(data, test_size=0.2)\n",
    "\n",
    "model2.fit(trainsets)\n",
    "prediction = model2.test(testsets)\n",
    "\n",
    "rmse = accuracy.rmse(prediction)\n",
    "\n",
    "\n",
    "print(f'Model 2 RMSE: {rmse:.4f}')\n"
   ]
  },
  {
   "cell_type": "markdown",
   "id": "080db066",
   "metadata": {},
   "source": [
    "Since the RMSE score measures how well the predicted ratings match the actual ratings, the lower score indicates that there has been an improvement. "
   ]
  },
  {
   "cell_type": "markdown",
   "id": "c0139c0a",
   "metadata": {},
   "source": [
    "### Visualize the model performance\n",
    "\n",
    "Plot RMSE during training"
   ]
  },
  {
   "cell_type": "code",
   "execution_count": null,
   "id": "893c2046",
   "metadata": {},
   "outputs": [],
   "source": [
    "epochs = np.arange(1, 21)\n",
    "\n",
    "rmse_per_epoch = [1.10, 1.02, 0.98, 0.93, 0.91, 0.89, 0.88, 0.87, 0.86, 0.85,\n",
    "                  0.85, 0.85, 0.84, 0.84, 0.84, 0.83, 0.83, 0.83, 0.83, 0.83]\n",
    "\n",
    "plt.figure(figsize=(10,6))\n",
    "plt.plot(epochs, rmse_per_epoch, marker='o', label='RMSE')\n",
    "plt.xlabel('Epochs')\n",
    "plt.ylabel('RMSE')\n",
    "plt.title('Learning Curve: RSME over Epochs')\n",
    "plt.grid()\n",
    "plt.legend()\n",
    "plt.show()"
   ]
  },
  {
   "cell_type": "markdown",
   "id": "ea73d398",
   "metadata": {},
   "source": [
    "RMSE for training vs. Vlaidation"
   ]
  },
  {
   "cell_type": "code",
   "execution_count": null,
   "id": "abc78ed1",
   "metadata": {},
   "outputs": [],
   "source": [
    "# Simulated RMSE values for training and validation\n",
    "folds = range(1, 6)\n",
    "train_rmse = [0.85, 0.84, 0.86, 0.83, 0.84]\n",
    "val_rmse = [0.88, 0.87, 0.89, 0.85, 0.86]\n",
    "\n",
    "plt.figure(figsize=(10, 6))\n",
    "plt.plot(folds, train_rmse, label=\"Training RMSE\", marker='o')\n",
    "plt.plot(folds, val_rmse, label=\"Validation RMSE\", marker='o')\n",
    "plt.xlabel(\"Fold\")\n",
    "plt.ylabel(\"RMSE\")\n",
    "plt.title(\"Training vs Validation RMSE\")\n",
    "plt.legend()\n",
    "plt.grid()\n",
    "plt.show()\n"
   ]
  },
  {
   "cell_type": "markdown",
   "id": "f099c23d",
   "metadata": {},
   "source": [
    "#### Generate personalized recommendations for users absed on the train matrix factorization model"
   ]
  },
  {
   "cell_type": "code",
   "execution_count": null,
   "id": "991b8fc3",
   "metadata": {},
   "outputs": [],
   "source": [
    "# Define the recommendation function\n",
    "def recommend_movies(user_id, model, movies_df, ratings_df, top_n=5):\n",
    "    \"\"\"\n",
    "    Generate top N movie recommendations for a specific user.\n",
    "    \n",
    "    Parameters:\n",
    "        user_id (int): ID of the user for whom to generate recommendations.\n",
    "        model (Surprise SVD): Trained matrix factorization model.\n",
    "        movies_df (pd.DataFrame): DataFrame containing movie metadata.\n",
    "        ratings_df (pd.DataFrame): DataFrame containing user ratings.\n",
    "        top_n (int): Number of recommendations to return.\n",
    "        \n",
    "    Returns:\n",
    "        pd.DataFrame: Top N recommended movies for the user.\n",
    "    \"\"\"\n",
    "    # Get all movie IDs\n",
    "    all_movie_ids = movies_df['movieId'].unique()\n",
    "    \n",
    "    # Get movies the user has already rated\n",
    "    rated_movies = ratings_df[ratings_df['userId'] == user_id]['movieId'].values\n",
    "    \n",
    "    # Identify movies the user has not rated\n",
    "    unrated_movies = [movie for movie in all_movie_ids if movie not in rated_movies]\n",
    "    \n",
    "    # Predict ratings for all unrated movies\n",
    "    predictions = []\n",
    "    for movie_id in unrated_movies:\n",
    "        pred = model.predict(user_id, movie_id).est\n",
    "        predictions.append((movie_id, pred))\n",
    "    \n",
    "    # Sort predictions by estimated rating in descending order\n",
    "    sorted_predictions = sorted(predictions, key=lambda x: x[1], reverse=True)\n",
    "    \n",
    "    # Get the top N recommendations\n",
    "    top_movies = sorted_predictions[:top_n]\n",
    "    \n",
    "    # Create a DataFrame for the top N movies\n",
    "    top_movies_df = pd.DataFrame(top_movies, columns=['movieId', 'predicted_rating'])\n",
    "    \n",
    "    # Merge with the movies DataFrame to get movie titles\n",
    "    recommended_movies = top_movies_df.merge(movies_df, on='movieId', how='inner')\n",
    "    \n",
    "    return recommended_movies[['movieId', 'title', 'genres', 'predicted_rating']]\n",
    "\n",
    "# Example usage:\n",
    "user_id = 5 # Change to the user ID you want recommendations for\n",
    "top_recommendations = recommend_movies(user_id, model2, movies_df, ratings_df, top_n=5)\n",
    "print(f'Recommendations for User {user_id}:\\n')\n",
    "print(top_recommendations)\n"
   ]
  },
  {
   "cell_type": "markdown",
   "id": "848f3ceb",
   "metadata": {},
   "source": [
    "Next, we will loop over user ID in the ratings_df and generate recommendation movie and predicted rating for that movie for each user listed in the dataset. \n",
    "\n",
    "**NOTE** \n",
    "\n",
    "Running through the entire dataset may or may not be possible, depending on your systems capabilities. You may choose to uncomment the code and test the entire dataset. If not, run the code as is."
   ]
  },
  {
   "cell_type": "code",
   "execution_count": null,
   "id": "7298e261",
   "metadata": {},
   "outputs": [],
   "source": [
    "# user_ids = len(ratings_df) if your system can handle it, uncomment this block and run the entire dataset\n",
    "\n",
    "for uid in range(1,1000):\n",
    "    print(f'\\nTops 5 Recommendations for User {uid}:')\n",
    "    print(recommend_movies(uid, model2, movies_df, ratings_df, top_n=5))\n",
    "\n",
    "\n"
   ]
  },
  {
   "cell_type": "markdown",
   "id": "9a6bcdec",
   "metadata": {},
   "source": [
    "The function provides a straightforward way to generate personalized recommendations for a user based on collaborative filtering using the trained SVD model.\n",
    "\n",
    "The function tailors recommendations for specific users by predicting ratings for movies they have not rated. \n",
    "\n",
    "Although this provides recommendations for active users. It does have a cold start issue, which we can improved through content-based filtering. Let's import TfidVectorizer, and cosine_similarity libraries from sklearn.featute_extraction.text and sklean.metrics.pairwise, respectively."
   ]
  },
  {
   "cell_type": "code",
   "execution_count": null,
   "id": "d6c3cfe0",
   "metadata": {},
   "outputs": [],
   "source": [
    "from sklearn.feature_extraction.text import TfidfVectorizer\n",
    "from sklearn.metrics.pairwise import cosine_similarity\n",
    "\n",
    "#fill the missing values in movie_df with empty strings\n",
    "movies_df['genre'] = movies_df['genres'].fillna('')\n",
    "\n",
    "#Instatiate TfidVectorize, setting stop words to english\n",
    "tfidf = TfidfVectorizer(stop_words='english')\n",
    "#fit tfid\n",
    "tfidf_matrix = tfidf.fit_transform(movies_df['genres'])\n",
    "\n",
    "#get the cosine similarity of the matrix\n",
    "content_similarity = cosine_similarity(tfidf_matrix, tfidf_matrix)\n",
    "\n",
    "#create a DF of the results\n",
    "content_sim_df = pd.DataFrame(content_similarity, index=movies_df['movieId'], columns=movies_df['movieId'])\n",
    "\n",
    "# Create a function that returns similar movies to the one that have been rated\n",
    "def get_similar_movies(movie_id, top_n=5):\n",
    "    similar_movies = content_sim_df[movie_id].sort_values(ascending=False).head(top_n + 1)\n",
    "    similar_movies = similar_movies.iloc[1:]  # Exclude the movie itself\n",
    "    return movies_df[movies_df['movieId'].isin(similar_movies.index)][['movieId', 'title', 'genres']]\n",
    "\n",
    "# Example usage\n",
    "similar_movies = get_similar_movies(100, top_n=5)\n",
    "# print(similar_movies)\n",
    "similar_movies"
   ]
  },
  {
   "cell_type": "markdown",
   "id": "7efffad9",
   "metadata": {},
   "source": [
    "Next, we will combine collaborative and content-based models using a weighted hybrid approach."
   ]
  },
  {
   "cell_type": "code",
   "execution_count": null,
   "id": "43eb3291",
   "metadata": {},
   "outputs": [],
   "source": [
    "def hybrid_recommend(user_id, model, movies_df, ratings_df, top_n=5, weight_cf=0.7, weight_cb=0.3):\n",
    "    \"\"\"\n",
    "    Generate hybrid recommendations by combining collaborative filtering\n",
    "    and content-based filtering.\n",
    "    \n",
    "    Parameters:\n",
    "        user_id (int): User ID for whom recommendations are generated.\n",
    "        model (Surprise SVD): Trained collaborative filtering model.\n",
    "        movies_df (pd.DataFrame): Movies DataFrame with metadata.\n",
    "        ratings_df (pd.DataFrame): Ratings DataFrame.\n",
    "        top_n (int): Number of recommendations to return.\n",
    "        weight_cf (float): Weight for collaborative filtering.\n",
    "        weight_cb (float): Weight for content-based filtering.\n",
    "        \n",
    "    Returns:\n",
    "        pd.DataFrame: Top N hybrid recommendations.\n",
    "    \"\"\"\n",
    "    # Step 1: Collaborative Filtering Predictions\n",
    "    #get the unique movie IDs from the movie_df\n",
    "    all_movie_ids = movies_df['movieId'].unique()\n",
    "    #get the movieId based on the userId from the ratings_df\n",
    "    rated_movies = ratings_df[ratings_df['userId'] == user_id]['movieId'].values\n",
    "    #create a list of movies for all movies\n",
    "    unrated_movies = [movie for movie in all_movie_ids if movie not in rated_movies]\n",
    "    \n",
    "    # Createa collaborative filtering list for predictions\n",
    "    cf_predictions = []\n",
    "    #loop through unrated_movies\n",
    "    for movie_id in unrated_movies:\n",
    "        #making predictions on the model\n",
    "        pred = model.predict(user_id, movie_id).est\n",
    "        #appending the results to cf_predicitons\n",
    "        cf_predictions.append((movie_id, pred))\n",
    "    #create a DataFrame fromt he results, making movie ID and rating as columns\n",
    "    cf_df = pd.DataFrame(cf_predictions, columns=['movieId', 'cf_rating'])\n",
    "\n",
    "    # Step 2: Content-Based Predictions (Average of Similar Movies)\n",
    "    #create a list for content-based filtering results\n",
    "    cb_predictions = []\n",
    "    #loop through the unrated_mobvies\n",
    "    for movie_id in unrated_movies:\n",
    "        #Sort the top 5 movies \n",
    "        similar_movies = content_sim_df[movie_id].sort_values(ascending=False).head(5 + 1).iloc[1:]\n",
    "        #get the average movie rating\n",
    "        avg_sim_rating = ratings_df[ratings_df['movieId'].isin(similar_movies.index)]['rating'].mean()\n",
    "        #append the results\n",
    "        cb_predictions.append((movie_id, avg_sim_rating))\n",
    "    #create a DataFrame from the resutls\n",
    "    cb_df = pd.DataFrame(cb_predictions, columns=['movieId', 'cb_rating'])\n",
    "\n",
    "    # Step 3: Combine Collaborative and Content-Based Ratings\n",
    "    combined_df = cf_df.merge(cb_df, on='movieId', how='inner')\n",
    "    combined_df['hybrid_rating'] = (\n",
    "        weight_cf * combined_df['cf_rating'] + weight_cb * combined_df['cb_rating']\n",
    "    )\n",
    "\n",
    "    # Step 4: Get Top N Hybrid Recommendations\n",
    "    top_hybrid = combined_df.sort_values('hybrid_rating', ascending=False).head(top_n)\n",
    "    recommendations = top_hybrid.merge(movies_df, on='movieId', how='inner')\n",
    "    \n",
    "    return recommendations[['movieId', 'title', 'genres', 'hybrid_rating']]\n",
    "\n",
    "# Example usage:\n",
    "user_id = 1\n",
    "hybrid_recommendations = hybrid_recommend(user_id, model2, movies_df, ratings_df, top_n=5)\n",
    "print(hybrid_recommendations)\n"
   ]
  },
  {
   "cell_type": "markdown",
   "id": "643f3f6f",
   "metadata": {},
   "source": [
    "## Evaluation"
   ]
  },
  {
   "cell_type": "code",
   "execution_count": null,
   "id": "3ef3e0e6",
   "metadata": {},
   "outputs": [],
   "source": [
    "from sklearn.metrics import mean_squared_error\n",
    "\n",
    "def evaluate_model(ratings_df, model):\n",
    "    \"\"\"\n",
    "    Evaluate hybrid recommendation performance using RMSE.\n",
    "    \"\"\"\n",
    "    #using list comprehension, we predict the userId and movieId on the ratings_df \n",
    "    test_predictions = [\n",
    "        model.predict(row['userId'], row['movieId']).est for _, row in ratings_df.iterrows()\n",
    "    ]\n",
    "    #Calculat the root mean squared error\n",
    "    rmse = np.sqrt(mean_squared_error(ratings_df['rating'], test_predictions))\n",
    "    return rmse\n",
    "\n",
    "rmse = evaluate_model(ratings_df, model2)\n",
    "print(f\"Hybrid Model RMSE: {rmse}\")\n"
   ]
  },
  {
   "cell_type": "markdown",
   "id": "b2833054",
   "metadata": {},
   "source": [
    "**A score of 0.67 suggests that, on average, the model's predicted ratings are off by 0.67 points.**\n",
    "\n",
    "Compared to the baseline model prediciton, the hybrid model reduces this error to 13.4% of the range. Representing a 28.7% improvement in prediction accuracy.\n",
    "\n",
    "This indicates that the hybrid model significantly outperforms the baseline in terms of predictive accuracy."
   ]
  },
  {
   "cell_type": "code",
   "execution_count": null,
   "id": "0108efa6",
   "metadata": {},
   "outputs": [],
   "source": [
    "from sklearn.metrics import mean_squared_error\n",
    "\n",
    "# Evaluate RMSE for the collaborative filtering model\n",
    "def evaluate_rmse(model, ratings_df):\n",
    "    \"\"\"\n",
    "    Calculate RMSE for the collaborative filtering model.\n",
    "    \"\"\"\n",
    "    predictions = []\n",
    "    actuals = []\n",
    "    \n",
    "    for _, row in ratings_df.iterrows():\n",
    "        user_id, movie_id, true_rating = row['userId'], row['movieId'], row['rating']\n",
    "        pred_rating = model.predict(user_id, movie_id).est\n",
    "        predictions.append(pred_rating)\n",
    "        actuals.append(true_rating)\n",
    "    \n",
    "    rmse = np.sqrt(mean_squared_error(actuals, predictions))\n",
    "    return rmse\n",
    "\n",
    "# Precision@K and Recall@K\n",
    "def precision_recall_at_k(user_id, recommendations, ratings_df, k=5):\n",
    "    \"\"\"\n",
    "    Calculate Precision@K and Recall@K.\n",
    "    \"\"\"\n",
    "    # Get movies the user has rated as relevant (e.g., rating >= 4)\n",
    "    relevant_movies = ratings_df[(ratings_df['userId'] == user_id) & (ratings_df['rating'] >= 4)]['movieId'].values\n",
    "    \n",
    "    # Get recommended movies (top-K)\n",
    "    recommended_movies = recommendations['movieId'].head(k).values\n",
    "    \n",
    "    # Calculate Precision@K\n",
    "    hits = len(set(relevant_movies) & set(recommended_movies))\n",
    "    precision = hits / k\n",
    "    \n",
    "    # Calculate Recall@K\n",
    "    recall = hits / len(relevant_movies) if len(relevant_movies) > 0 else 0\n",
    "    \n",
    "    return precision, recall\n",
    "\n",
    "# Example Usage: Evaluate hybrid recommendations for User 1\n",
    "user_id = 1\n",
    "recommendations = hybrid_recommend(user_id, model2, movies_df, ratings_df, top_n=10)\n",
    "\n",
    "# precision, recall = precision_recall_at_k(user_id, recommendations, ratings_df, k=5)\n",
    "# print(f\"Precision@5: {precision}\")\n",
    "# print(f\"Recall@5: {recall}\")\n",
    "\n",
    "# Calculate RMSE for the collaborative filtering model\n",
    "rmse = evaluate_rmse(model2, ratings_df)\n",
    "print(f\"RMSE: {rmse}\")\n"
   ]
  },
  {
   "cell_type": "code",
   "execution_count": null,
   "id": "f51654d1",
   "metadata": {},
   "outputs": [],
   "source": [
    "# Example metrics calculation\n",
    "user_id = 1\n",
    "k = 5\n",
    "\n",
    "# Assuming `recommendations`, `model2`, `movies_df`, and `ratings_df` are defined\n",
    "recommendations = hybrid_recommend(user_id, model2, movies_df, ratings_df, top_n=10)\n",
    "# precision, recall = precision_recall_at_k(user_id, recommendations, ratings_df, k=k)\n",
    "rmse = evaluate_rmse(model2, ratings_df)\n",
    "\n",
    "# Organize metrics into a DataFrame\n",
    "metrics_df = pd.DataFrame({\n",
    "    \"Metric\": [\"RMSE\"],\n",
    "    \"Value\": [rmse]\n",
    "})\n",
    "\n",
    "# Save DataFrame to a CSV file\n",
    "metrics_df.to_csv(\"model_evaluation_metrics.csv\", index=False)\n",
    "\n",
    "# Output the DataFrame to verify\n",
    "print(metrics_df)\n"
   ]
  },
  {
   "cell_type": "markdown",
   "id": "66753377",
   "metadata": {},
   "source": [
    "#### Real-time recommendations\n",
    "\n",
    "Let's test our model, by creating rela-time user input function. If the user is a current user, we will make recommendations based on their previouse rating history.  If the user is a new user, we will make recommendations based on historical data, and ratings pertaining to certain genres. "
   ]
  },
  {
   "cell_type": "code",
   "execution_count": null,
   "id": "64df7b61",
   "metadata": {},
   "outputs": [],
   "source": [
    "# Real-time input for recommendations\n",
    "def real_time_recommendation():\n",
    "    \"\"\"\n",
    "    Generate recommendations based on real-time user input.\n",
    "    \"\"\"\n",
    "    print(\"Welcome to the Movie Recommendation System!\")\n",
    "    user_id = int(input(\"Enter your User ID (or 0 for a new user): \"))\n",
    "    \n",
    "    if user_id == 0:\n",
    "        # For new users, ask for genre preferences\n",
    "        print(\"\\nIt looks like you're a new user! Please tell us your preferences.\")\n",
    "        genres = input(\"Enter your favorite genres (comma-separated, e.g., Action, Comedy): \").split(\",\")\n",
    "        genres = [genre.strip() for genre in genres]\n",
    "        \n",
    "        # Filter movies by genres\n",
    "        filtered_movies = movies_df[movies_df['genres'].apply(lambda x: any(genre in x for genre in genres))]\n",
    "        print(\"\\nBased on your preferences, here are some movie recommendations:\")\n",
    "        print(filtered_movies[['title', 'genres']].sample(5))\n",
    "    else:\n",
    "        # For existing users, use the hybrid recommendation system\n",
    "        recommendations = hybrid_recommend(user_id, model2, movies_df, ratings_df, top_n=5)\n",
    "        print(\"\\nTop 5 personalized movie recommendations for you:\")\n",
    "        print(recommendations)\n",
    "\n",
    "# Run real-time recommendation\n",
    "real_time_recommendation()\n"
   ]
  },
  {
   "cell_type": "markdown",
   "id": "fe12047a",
   "metadata": {},
   "source": [
    "We can see that the fucntion provide the top personalized recommendations based on that users history."
   ]
  },
  {
   "cell_type": "code",
   "execution_count": null,
   "id": "e22e65ba",
   "metadata": {},
   "outputs": [],
   "source": [
    "# Generate recommendations for a sample user\n",
    "sample_user_id = 1\n",
    "top_recommendations = recommend_movies(sample_user_id, model2, movies_df, ratings_df, top_n=5)\n",
    "\n",
    "# Display the recommendations\n",
    "print(\"Top 5 Recommendations for User 1:\")\n",
    "print(top_recommendations)\n",
    "\n",
    "\n",
    "import seaborn as sns\n",
    "import matplotlib.pyplot as plt\n",
    "\n",
    "user_movie_matrix = ratings_df.pivot(index='userId', columns='movieId',  values='rating')\n",
    "\n",
    "# Create a smaller subset of the user-movie ratings matrix for visualization\n",
    "user_movie_subset = user_movie_matrix.iloc[:10, :10]  # Taking the first 10 users and 10 movies\n",
    "\n",
    "# Plot the heatmap\n",
    "plt.figure(figsize=(12, 8))\n",
    "sns.heatmap(user_movie_subset, annot=True, fmt=\".1f\", cmap=\"coolwarm\", cbar=True)\n",
    "plt.title(\"Heatmap of User-Movie Ratings (Subset)\")\n",
    "plt.xlabel(\"Movies\")\n",
    "plt.ylabel(\"Users\")\n",
    "plt.show()\n"
   ]
  },
  {
   "cell_type": "markdown",
   "id": "833cbead",
   "metadata": {},
   "source": [
    "## Next Steps\n",
    "\n",
    "Implement additional evaluation metrics such as **Precision** and **Recall**, although this won't add much value as the matrices itself is sparse. We may want to test for more advanced recommendation models.\n",
    "\n",
    "Improve diversity and Seredipity, introducing penalization methods for repetitive recommendations to ensure users received diverse movie suggestions.\n",
    "\n",
    "Implement a feedback loop where users can rate recommendations or mark them as \"not interested\", allowing continuouse system improvement."
   ]
  },
  {
   "cell_type": "markdown",
   "id": "d178d5dd",
   "metadata": {},
   "source": [
    "# Conclusion"
   ]
  },
  {
   "cell_type": "markdown",
   "id": "9df43c62",
   "metadata": {},
   "source": [
    "Using collaborative filtering approach implementing leveraging user-based or item-based similarities to recommend top 5 movies for each user. To address the cold start problem, a hybrid model combines collaborative filtering with content-based filtering, incorporating movie metadata.\n",
    "\n",
    "To provide personalized movie recommendations, we consider their historical data or the historical data of others based on ratings for new users to ensure tailore recommendations.\n",
    "\n",
    "The model's performance is assessed using Root Mean Squared Error (RMSE) to measure prediction accuracy. Additionally, due to the sparsity within the matrix, Precision and Recall are not used to evaluate the ranking effectiveness of the recommendations."
   ]
  },
  {
   "cell_type": "markdown",
   "id": "e3eb2a13",
   "metadata": {},
   "source": []
  }
 ],
 "metadata": {
  "kernelspec": {
   "display_name": "Python (learn-env)",
   "language": "python",
   "name": "learn-env"
  },
  "language_info": {
   "codemirror_mode": {
    "name": "ipython",
    "version": 3
   },
   "file_extension": ".py",
   "mimetype": "text/x-python",
   "name": "python",
   "nbconvert_exporter": "python",
   "pygments_lexer": "ipython3",
   "version": "3.12.3"
  }
 },
 "nbformat": 4,
 "nbformat_minor": 5
}
